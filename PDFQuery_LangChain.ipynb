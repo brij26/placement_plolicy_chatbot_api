{
  "cells": [
    {
      "cell_type": "markdown",
      "metadata": {
        "id": "m_FeN-Ep4Rpp"
      },
      "source": [
        "Install the required dependencies:"
      ]
    },
    {
      "cell_type": "code",
      "execution_count": 1,
      "metadata": {
        "id": "Uk0qUhJUQrkO"
      },
      "outputs": [],
      "source": [
        "!pip install -q cassio datasets langchain openai tiktoken"
      ]
    },
    {
      "cell_type": "markdown",
      "metadata": {
        "id": "XQQN-L2J4Rpq"
      },
      "source": [
        "Import the packages we'll need:"
      ]
    },
    {
      "cell_type": "code",
      "execution_count": null,
      "metadata": {
        "id": "V4qBIihE4Rpq"
      },
      "outputs": [
        {
          "name": "stderr",
          "output_type": "stream",
          "text": [
            "d:\\langchain_projects\\langchain_projects\\lib\\site-packages\\tqdm\\auto.py:21: TqdmWarning: IProgress not found. Please update jupyter and ipywidgets. See https://ipywidgets.readthedocs.io/en/stable/user_install.html\n",
            "  from .autonotebook import tqdm as notebook_tqdm\n"
          ]
        }
      ],
      "source": [
        "# LangChain components to use\n",
        "from langchain.vectorstores.cassandra import Cassandra\n",
        "from langchain.indexes.vectorstore import VectorStoreIndexWrapper\n",
        "from langchain.llms import OpenAI\n",
        "from langchain_community.embeddings import OllamaEmbeddings\n",
        "import os\n",
        "\n",
        "# Support for dataset retrieval with Hugging Face\n",
        "from datasets import load_dataset\n",
        "\n",
        "# With CassIO, the engine powering the Astra DB integration in LangChain,\n",
        "# you will also initialize the DB connection:\n",
        "import cassio"
      ]
    },
    {
      "cell_type": "code",
      "execution_count": 2,
      "metadata": {
        "colab": {
          "base_uri": "https://localhost:8080/"
        },
        "id": "WIs76OPQ6JyD",
        "outputId": "2464981f-aea9-499d-ccb4-5f43ea76061d"
      },
      "outputs": [
        {
          "name": "stdout",
          "output_type": "stream",
          "text": [
            "Requirement already satisfied: PyPDF2 in d:\\langchain_projects\\langchain_projects\\lib\\site-packages (3.0.1)\n"
          ]
        }
      ],
      "source": [
        "!pip install PyPDF2"
      ]
    },
    {
      "cell_type": "code",
      "execution_count": null,
      "metadata": {},
      "outputs": [],
      "source": [
        "os.environ['ASTRA_DB_ID']=os.getenv(\"ASTRA_DB_ID\")\n",
        "os.environ['ASTRA_DB_APPLICATION_TOKEN']=os.getenv(\"ASTRA_DB_APPLICATION_TOKEN\")\n",
        "os.environ['GROQ_API_KEY']=os.getenv(\"GROQ_API_KEY\")"
      ]
    },
    {
      "cell_type": "code",
      "execution_count": 3,
      "metadata": {
        "id": "1itBNL1v6N9-"
      },
      "outputs": [],
      "source": [
        "from PyPDF2 import PdfReader"
      ]
    },
    {
      "cell_type": "markdown",
      "metadata": {
        "id": "Vu2UauiC4Rpr"
      },
      "source": [
        "### Setup"
      ]
    },
    {
      "cell_type": "code",
      "execution_count": null,
      "metadata": {
        "id": "eqpM6I854Rpr"
      },
      "outputs": [],
      "source": [
        "ASTRA_DB_ID = os.getenv(\"ASTRA_DB_ID\")\n",
        "ASTRA_DB_APPLICATION_TOKEN = os.getenv(\"ASTRA_DB_APPLICATION_TOKEN\")"
      ]
    },
    {
      "cell_type": "code",
      "execution_count": 4,
      "metadata": {
        "id": "waVKJW-n6jqJ"
      },
      "outputs": [],
      "source": [
        "# provide the path of  pdf file/files.\n",
        "pdfreader = PdfReader('D:\\langchain_projects\\mini_poject_2\\placement_policy\\Placement Policy-2021-22-1-5.pdf')"
      ]
    },
    {
      "cell_type": "code",
      "execution_count": 5,
      "metadata": {
        "id": "42BKuFRO6meP"
      },
      "outputs": [],
      "source": [
        "from typing_extensions import Concatenate\n",
        "# read text from pdf\n",
        "raw_text = ''\n",
        "for i, page in enumerate(pdfreader.pages):\n",
        "    content = page.extract_text()\n",
        "    if content:\n",
        "        raw_text += content"
      ]
    },
    {
      "cell_type": "code",
      "execution_count": 9,
      "metadata": {
        "colab": {
          "base_uri": "https://localhost:8080/",
          "height": 192
        },
        "id": "vR41Iq-4ZHnG",
        "outputId": "861bc27a-fd4d-47f9-f722-8e365a6fd030"
      },
      "outputs": [
        {
          "data": {
            "text/plain": [
              "11282"
            ]
          },
          "execution_count": 9,
          "metadata": {},
          "output_type": "execute_result"
        }
      ],
      "source": [
        "len(raw_text)"
      ]
    },
    {
      "cell_type": "markdown",
      "metadata": {
        "id": "5S0GgIQs4Rps"
      },
      "source": [
        "Initialize the connection to your database:"
      ]
    },
    {
      "cell_type": "code",
      "execution_count": 14,
      "metadata": {
        "colab": {
          "base_uri": "https://localhost:8080/"
        },
        "id": "zFBR5HnZSPmK",
        "outputId": "5b4bb3ea-6be3-4d7a-c535-88715fa67c13"
      },
      "outputs": [],
      "source": [
        "cassio.init(token=ASTRA_DB_APPLICATION_TOKEN, database_id=ASTRA_DB_ID)"
      ]
    },
    {
      "cell_type": "markdown",
      "metadata": {
        "id": "ex7NxZYb4Rps"
      },
      "source": [
        "Create the LangChain embedding and LLM objects for later usage:"
      ]
    },
    {
      "cell_type": "code",
      "execution_count": null,
      "metadata": {
        "id": "TavS0AK2SLrL"
      },
      "outputs": [],
      "source": [
        "from langchain_groq import ChatGroq\n",
        "from langchain_huggingface.embeddings import HuggingFaceEmbeddings\n",
        "GROQ_API_KEY = os.getenv(\"ASTRA_DB_APPLICATION_TOKEN\")\n",
        "llm = ChatGroq(groq_api_key = GROQ_API_KEY,model_name = \"Llama3-8b-8192\")\n",
        "embeddings = HuggingFaceEmbeddings(model_name=\"all-MiniLm-L6-v2\")"
      ]
    },
    {
      "cell_type": "markdown",
      "metadata": {
        "id": "9HMMx5Pm4Rpt"
      },
      "source": [
        "Create your LangChain vector store ... backed by Astra DB!"
      ]
    },
    {
      "cell_type": "code",
      "execution_count": 16,
      "metadata": {
        "id": "bg9VAk4USQvU"
      },
      "outputs": [],
      "source": [
        "astra_vector_store = Cassandra(\n",
        "    embedding=embeddings,\n",
        "    table_name=\"minipoject_1\",\n",
        "    session=None,\n",
        "    keyspace=None,\n",
        ")"
      ]
    },
    {
      "cell_type": "code",
      "execution_count": 17,
      "metadata": {
        "id": "9FMAhKr77AVO"
      },
      "outputs": [],
      "source": [
        "from langchain.text_splitter import CharacterTextSplitter\n",
        "# We need to split the text using Character Text Split such that it sshould not increse token size\n",
        "text_splitter = CharacterTextSplitter(\n",
        "    separator = \"\\n\",\n",
        "    chunk_size = 800,\n",
        "    chunk_overlap  = 200,\n",
        "    length_function = len,\n",
        ")\n",
        "texts = text_splitter.split_text(raw_text)"
      ]
    },
    {
      "cell_type": "code",
      "execution_count": 18,
      "metadata": {
        "colab": {
          "base_uri": "https://localhost:8080/"
        },
        "id": "k8BDHAyT7Gjr",
        "outputId": "7833f6ac-bd97-40d6-fcbe-94a81b4dd6ac"
      },
      "outputs": [
        {
          "data": {
            "text/plain": [
              "['PLACEMENT  POLICY  \\n \\n \\nEligibility Criteria for Placement  \\n \\n1. The student  must  be a registered student  with the T&P  Office for  Campus  Placement.  \\n \\n2. Eligibility criteria for placements are prescribed by the company visiting for \\nplacements. The Institute or  the T&P Office has no role in this regard. Eligibility  \\ncriteria will be communicated in advance to the  students.  Students  shall check  \\ntheir eligibility  before  applying  for placement. TPO has full rights to withdraw the \\nnames of the non -eligible candidates.  \\n \\n3. Students are advised to  read the Job Announcement Form by the company \\ncarefully. An eligible student giving consent or applying against the offer is \\nsupposed to have verified thoroughly the Job profile or company background, etc.',\n",
              " 'carefully. An eligible student giving consent or applying against the offer is \\nsupposed to have verified thoroughly the Job profile or company background, etc.  \\n \\n4. If the CGPA criteria defi ned by the company is hard defined then TPO won’t have \\nany role to alter the same.  \\n For example: If the eligibility criteria is 7 CGPA, students with 6.9 CGPA or  less \\n will not be considered in any case.  \\n \\n5. Selection  procedure is entirely the prerogative of  the company and will be by the \\ncompany; same shall be communicated to  students beforehand.  The T&P Offic e \\nhas no role in this regard . Undu e requests  for consider ation shall  not be \\nentertained.  \\n6. Eligible student may not register to the placement call initiated by a company.',\n",
              " 'has no role in this regard . Undu e requests  for consider ation shall  not be \\nentertained.  \\n6. Eligible student may not register to the placement call initiated by a company. \\nSuch option would be available to the eligible students as given under:  \\n  \\n \\n \\n \\n \\n \\n \\n \\n \\n \\nAfter such instances the respective student have to register himself/ herself for the next \\noffer where he/ she is eligible and if selected will have to accept the offer. Failing to do \\nso would result in permanent debarment of the respective student from T&P activities.  \\n \\n7. A student already placed can participate again for availing offer with improved \\npackage & facilities with following conditions:  \\n \\n\\uf0d8 Such change over for better job opportunity and package will be allowed only \\ntwice provided that',\n",
              " 'package & facilities with following conditions:  \\n \\n\\uf0d8 Such change over for better job opportunity and package will be allowed only \\ntwice provided that  \\na. Package offered by the next company is 1.5 times of the existing \\npackage. This will be allowed only twice.  Sr. No.  CGPA  May not \\nregister for  \\n1 5 to 7  2 times  \\n2 7 to 8  3 times  \\n3 8 to 9  4 times  \\n4 Above 9  5 times   b. The students must meet the company eligibility criteria.  \\n\\uf0d8 All such changeovers will be allowed if and only if the percentage of placed \\nstudents is not less than 50% of the total number of eligible students of the \\nInstitute.  \\n8. Unplaced students can register to any Company coming for the placements \\nprovided they are eligible as per company’s prescribed criteria.',\n",
              " 'Institute.  \\n8. Unplaced students can register to any Company coming for the placements \\nprovided they are eligible as per company’s prescribed criteria.  \\n9. The student can withdraw his/h er application to a company ONLY if  the last date \\nof application to that particular  company  is NOT  over.  There  can be no \\nwithdrawals  done  after this date. Also if due to some reason student fail to register \\nupto the deadline then request in those matters won’t be considered.  \\n10. In case the  company withdraws the  offer of  appointment  to student  for any reasons \\nand informs the  Institute  about  the same,  then such  students  shall  be allowed  to \\napply  for further  placement opportunities.  \\n11. Students from earlier batches who are specially permitted by the Authorities,',\n",
              " 'apply  for further  placement opportunities.  \\n11. Students from earlier batches who are specially permitted by the Authorities, \\nwill also be eligible to  participate  in the Campus  Placements subject to approval \\nfrom the respective company.  \\n \\n12. In view of travel restrictions  due to COVID -19, compa nies might opt  for  \\nOnline/Remot e hiring process. The institute is also encouraging Online/Remote \\nhiring process. Students must prepare themselves for the same.  \\n13. After the test and interviews are scheduled by the company, if any student is not \\nable to attend it due to any genuine reason,  he/she should inform the T & \\nP office  at least  4 hours  beforehand . (Form No. 1)  \\n14. In case of parallel recruitment procedures of two or more companies, if an',\n",
              " 'P office  at least  4 hours  beforehand . (Form No. 1)  \\n14. In case of parallel recruitment procedures of two or more companies, if an \\nunavoidable case of clash of procedures arise then a student may be asked to \\nchoose between the companies and hence can only continue in the procedure with \\nthe selected company. No change in the decision in this regard will be accepted in \\nany case after advan cement in the selection procedure from that point onwards.  \\n15. Student withdrawing or not participating at any stage of hiring process will be \\npermanently debarred from the Institute’s Placements.  \\n16. In case, the final result of Company is awaited, the shortliste d students shall \\ncontinue to be eligible in the upcoming companies. Once the awaited result is',\n",
              " '16. In case, the final result of Company is awaited, the shortliste d students shall \\ncontinue to be eligible in the upcoming companies. Once the awaited result is \\nreceived, the selected students will not be allowed to appear further in the ongoing \\nrecruitment process of any company . \\n17. All off campus offers must be communicated to the T&P Department. (Form No. \\n2) \\n18. Ethical and moral values of the Institute should not be compromised in any way.  \\n \\n \\nINTERNSHIP POLICY  \\nEligibility Criteria  \\n \\n1. IIITN  has ONE  STUDENT  ONE  INTERNSHIP  OFFER  policy.   \\n2. Eligibility criteria for Internships are prescribed by the company . The Institute or  the \\nT&P Office has no role in this regard. Eligibility  criteria will be communicated in',\n",
              " '2. Eligibility criteria for Internships are prescribed by the company . The Institute or  the \\nT&P Office has no role in this regard. Eligibility  criteria will be communicated in \\nadvance to the  students.  Students  shall check  their eligibility  before  applying  for \\nInternship . TPO has full  rights to withdraw the names of the non -eligible candidates.  \\n3. If a student accepts the internship offer, he/ she is not allowed to register for any \\nother company coming later.  \\n4. Once the student accepts the internship offer, he/she is not eligible for other  company giving higher stipend/ PPO offer or any such benefits.  \\n \\n5. Two internships is one semester are permitted, provided both of them are in the \\nsame field (with same Job Description).',\n",
              " '5. Two internships is one semester are permitted, provided both of them are in the \\nsame field (with same Job Description).  \\n For example: Goldman Sachs internship is for 3 months so remaining 3 \\n months should be in another company with same work profile. Simultaneous \\n internships at two companies are not permitted.  \\n \\n6. Students can pursue their academic research internship in Institutions of National \\nImportance like NIT and IIT or IISER, IISC Bangalor e or with reputed \\nUniversities abroad.  \\n7. Off campus internships must be communicated to the T&P Office. (Form No. 3)  \\n8. In-house internship are given to the backlog students.  \\n \\n \\nAcceptance  of Offers  \\n \\n1. Students are required to accept the offers within the period stipulated by the',\n",
              " '8. In-house internship are given to the backlog students.  \\n \\n \\nAcceptance  of Offers  \\n \\n1. Students are required to accept the offers within the period stipulated by the \\nrespective company. Whether  the student  accepts  or  not, he/she would not  \\nbe allowed to  participate in  any further  processes. It  is advised that the \\nstudents  accept the offer immediately.  \\n \\n2. Any cases of unsolicited pursuation by the companies should be reported to \\nT&P Office.  \\n \\nOff-campus  Application  \\n \\n1. If any student gets placed due to his/ her own efforts (outside the purview of the \\nT&P Office) shall inform the T&P Office immediately. The student shall be \\nassumed to be opting ou t of the placement process with immediate \\neffect. (Form No. 2)  \\n \\n \\nPre-Placement  Offer',\n",
              " 'T&P Office) shall inform the T&P Office immediately. The student shall be \\nassumed to be opting ou t of the placement process with immediate \\neffect. (Form No. 2)  \\n \\n \\nPre-Placement  Offer  \\n \\n1. If any student gets a pre -placement offer  from any company, the student shall \\ninform  the  T&P Office immediately. This also includes offers extended by \\ncompanies not participating in Campus Placements. All rules as per  the \\nplacement policy shall be applicable with immediate effect. (Form No. 4)  \\n \\n2. Any form of intimation from any company about possibility of extending PPO \\nin future, must be informed to T&P Office. The T&P  Office will coordinate \\nwith the company and student will be allowed to appear in the upcoming',\n",
              " 'in future, must be informed to T&P Office. The T&P  Office will coordinate \\nwith the company and student will be allowed to appear in the upcoming \\ncompanies for placement till a formal communication of grant of PPO is made \\nby the company. In case student neither accepts nor rejects the PPO within 7 \\ndays, he /she would be deemed to have ACCEPTED the PPO and would be out \\nof placement process with immediate effect. (Form No. 4)  \\n   \\n \\nJoining  \\n \\n1. If any student after accepting an offer, is unwilling/unable to join the company, \\nfor pursuing higher studies  or  for  any o ther reasons, he/she should inform the \\ncompany and T&P Office simultaneously as soon as possible.  (Form No. 5)  \\n \\n2. In all other cases if  the student does not inform about his/ her unwillingness to',\n",
              " 'company and T&P Office simultaneously as soon as possible.  (Form No. 5)  \\n \\n2. In all other cases if  the student does not inform about his/ her unwillingness to \\njoin the company, he/she will be liable for any further  consequences,  including  \\nreferral  to the Institute  Director  for disciplinary  actions.  \\n \\nGeneral  guidelines:  \\n \\n1. Students are not authorized to communicate with the companies in any \\nindividual capacity when  company visits Institute for  placements. Any official \\ninteraction by any student at any stage before  and after selection must be carried \\nout in consultation with the T&P Office.  Any discussions with the recruiters  \\nregarding  selection  process is prohibited.',\n",
              " 'out in consultation with the T&P Office.  Any discussions with the recruiters  \\nregarding  selection  process is prohibited.  \\n \\n2. Dress  code  during  all the interactions  (pre-placement  talk/ tests/interviews)   shall \\nbe BUSINESS FORMALS   \\nFor boys : Sober  colour  formal  full shirt,  formal  trousers,  and \\npolished  formal  shoes.  \\n For girls: Sober  colour  Salwar -Kurta  or western  formals.  \\n \\n \\n3. Students must reach the venue well before time for campus placement. Late comers will \\nnot be allowed.  \\n \\n4. While  attending campus  placements,  students  must  carry  with them the following \\ndocuments:  \\na) IIITN  ID Card  \\nb) Passport size colour photos.  \\nc) 2 copies  of the update d and signed  resume  {In forma t prescribed by the T&P \\nOffice )',\n",
              " 'documents:  \\na) IIITN  ID Card  \\nb) Passport size colour photos.  \\nc) 2 copies  of the update d and signed  resume  {In forma t prescribed by the T&P \\nOffice ) \\nd) Original  mark  sheets  from  SSC onwards  in a file folder.  \\ne) 2 sets of photocopies of  all relevant  marksheets , certificates  (self- attested)  \\nf) 2 sets of ID Proofs  (PAN  Card/  Aadhar  Card/Passport/  Driving  license)  \\ng) 2 sets of Address  proof  (Aadhar  card/Electricity  bill/ front  page  of Bank  \\npassbook)  \\n \\n5. Students  need to  honour the  timelines regarding the  documentation \\nformalities, completion of  training  as prescribed  by the company  offering  \\nemployment  \\n \\n6. Students need to  adhere to the work ethics,  rules and regulations, code of conduct',\n",
              " \"formalities, completion of  training  as prescribed  by the company  offering  \\nemployment  \\n \\n6. Students need to  adhere to the work ethics,  rules and regulations, code of conduct \\nprescribed by the  company  offering  employment.    \\n7. Company or Institute  reserves all rights to disallow any student  from applying for \\nplacements in  case of non -compliance.  Students found guilty of any misconduct \\nduring campus placements shall be barred from  appearing  for any campus  \\nplacements  at IIITN.  \\n \\n8. Students are required to check the  notice board of the T&P Office and \\ninstitute’s website  regularly. It  will be student's  responsibility  to remain \\ninformed about placement related processes and activities. Upgradation of the\",\n",
              " \"institute’s website  regularly. It  will be student's  responsibility  to remain \\ninformed about placement related processes and activities. Upgradation of the \\nresume shall  be updated  time to time at the T&P  Office.  \\n \\n9. IIITN reserves  all rights to  allow/ disallow  any student from applying in  placement \\nprocess without  assigning  any reason  thereto.  Requests / Grievances/issues shall \\nbe referred  to the Director - IIITN  through  the T&P  Office  . Decision  of the \\nDirector  IIITN,  shall be binding  on all. If needed IIITN through it’s Director may \\nalter or give relaxation for any clause of this policy as and when required as \\nspecial case.  \\n \\n10. Timings of T&P Office communication is between 9:30 am to 6:00 pm from\",\n",
              " 'alter or give relaxation for any clause of this policy as and when required as \\nspecial case.  \\n \\n10. Timings of T&P Office communication is between 9:30 am to 6:00 pm from \\nMonday - Friday. In case where the hiring process is scheduled on weekends, TPO \\nwill get in touch with you as and when required.  \\n11. Any unethical or in disciplined behavior of the student may lead to cancellation of \\nthe job offer secured by him/ her.']"
            ]
          },
          "execution_count": 18,
          "metadata": {},
          "output_type": "execute_result"
        }
      ],
      "source": [
        "texts[:50]"
      ]
    },
    {
      "cell_type": "markdown",
      "metadata": {
        "id": "V1WK54-74Rpt"
      },
      "source": [
        "### Load the dataset into the vector store\n",
        "\n"
      ]
    },
    {
      "cell_type": "code",
      "execution_count": 19,
      "metadata": {
        "colab": {
          "base_uri": "https://localhost:8080/"
        },
        "id": "GX5BECsdSUUM",
        "outputId": "cdff3467-8af3-45cd-f750-f3174bc521fb"
      },
      "outputs": [
        {
          "name": "stdout",
          "output_type": "stream",
          "text": [
            "Inserted 19 headlines.\n"
          ]
        }
      ],
      "source": [
        "\n",
        "astra_vector_store.add_texts(texts)\n",
        "\n",
        "print(\"Inserted %i headlines.\" % len(texts))\n",
        "\n",
        "astra_vector_index = VectorStoreIndexWrapper(vectorstore=astra_vector_store)"
      ]
    },
    {
      "cell_type": "code",
      "execution_count": null,
      "metadata": {
        "id": "KhVf0kir2Uke"
      },
      "outputs": [],
      "source": []
    },
    {
      "cell_type": "markdown",
      "metadata": {
        "id": "oLJp8yPF4Rpt"
      },
      "source": [
        "### Run the QA cycle\n",
        "\n",
        "Simply run the cells and ask a question -- or `quit` to stop. (you can also stop execution with the \"▪\" button on the top toolbar)\n",
        "\n",
        "Here are some suggested questions:\n",
        "* What are the eligibility criteria for students to participate in placements?\n",
        "\n",
        "* What is the policy for students who get multiple job offers?\n"
      ]
    },
    {
      "cell_type": "code",
      "execution_count": 21,
      "metadata": {
        "colab": {
          "base_uri": "https://localhost:8080/"
        },
        "id": "MbJugrh7SX3C",
        "outputId": "10e8f954-a113-47a2-a84c-615a9f6e5dc6"
      },
      "outputs": [
        {
          "name": "stdout",
          "output_type": "stream",
          "text": [
            "\n",
            "QUESTION: \"What is the policy for students who get multiple job offers?\"\n",
            "ANSWER: \"According to the policy, students are required to accept the offers within the stipulated period. Undue requests for reconsideration shall not be entertained. If a student accepts an offer, they are not allowed to register for any other company coming later. Additionally, if a student accepts an internship offer, they are not eligible for other companies giving higher stipend/PPO offers or any such benefits.\n",
            "\n",
            "However, a student already placed can participate again for availing an offer with an improved package and facilities, but only under certain conditions:\n",
            "\n",
            "1. The package offered by the next company must be at least 1.5 times of the existing package. This will be allowed only twice.\n",
            "2. The student must meet the company eligibility criteria.\n",
            "3. All such changeovers will be allowed if and only if the percentage of placed students is not less than 50% of the total number of eligible students of the Institute.\n",
            "\n",
            "The number of times a student can change over for a better job opportunity and package depends on their CGPA:\n",
            "\n",
            "* CGPA 5 to 7: 2 times\n",
            "* CGPA 7 to 8: 3 times\n",
            "* CGPA 8 to 9: 4 times\n",
            "* CGPA above 9: 5 times\"\n",
            "\n",
            "FIRST DOCUMENTS BY RELEVANCE:\n",
            "    [0.7348] \"5. Two internships is one semester are permitted, provided both of them are in the \n",
            " ...\"\n",
            "    [0.7241] \"has no role in this regard . Undu e requests  for consider ation shall  not be \n",
            "ente ...\"\n",
            "    [0.7222] \"2. Eligibility criteria for Internships are prescribed by the company . The Institut ...\"\n",
            "    [0.7112] \"package & facilities with following conditions:  \n",
            " \n",
            " Such change over for better jo ...\"\n"
          ]
        }
      ],
      "source": [
        "first_question = True\n",
        "while True:\n",
        "    if first_question:\n",
        "        query_text = input(\"\\nEnter your question (or type 'quit' to exit): \").strip()\n",
        "    else:\n",
        "        query_text = input(\"\\nWhat's your next question (or type 'quit' to exit): \").strip()\n",
        "\n",
        "    if query_text.lower() == \"quit\":\n",
        "        break\n",
        "\n",
        "    if query_text == \"\":\n",
        "        continue\n",
        "\n",
        "    first_question = False\n",
        "\n",
        "    print(\"\\nQUESTION: \\\"%s\\\"\" % query_text)\n",
        "    answer = astra_vector_index.query(query_text, llm=llm).strip()\n",
        "    print(\"ANSWER: \\\"%s\\\"\\n\" % answer)\n",
        "\n",
        "    print(\"FIRST DOCUMENTS BY RELEVANCE:\")\n",
        "    for doc, score in astra_vector_store.similarity_search_with_score(query_text, k=4):\n",
        "        print(\"    [%0.4f] \\\"%s ...\\\"\" % (score, doc.page_content[:84]))"
      ]
    },
    {
      "cell_type": "code",
      "execution_count": null,
      "metadata": {
        "id": "dSaUPguw389l"
      },
      "outputs": [],
      "source": []
    }
  ],
  "metadata": {
    "colab": {
      "provenance": []
    },
    "kernelspec": {
      "display_name": "Python 3",
      "language": "python",
      "name": "python3"
    },
    "language_info": {
      "codemirror_mode": {
        "name": "ipython",
        "version": 3
      },
      "file_extension": ".py",
      "mimetype": "text/x-python",
      "name": "python",
      "nbconvert_exporter": "python",
      "pygments_lexer": "ipython3",
      "version": "3.10.0"
    }
  },
  "nbformat": 4,
  "nbformat_minor": 0
}
